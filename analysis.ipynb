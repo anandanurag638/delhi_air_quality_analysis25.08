{
 "cells": [
  {
   "cell_type": "code",
   "execution_count": null,
   "id": "2b3c7ddc",
   "metadata": {},
   "outputs": [],
   "source": [
    "# Delhi Air Quality Analysis and Forecasting\n",
    "\n",
    "#This project explores historical air quality data from Delhi to identify trends, analyze the impact of seasonal changes, and build a predictive model for the Air Quality Index (AQI)."
   ]
  },
  {
   "cell_type": "code",
   "execution_count": null,
   "id": "5550ad29",
   "metadata": {},
   "outputs": [],
   "source": [
    "%pip install statsmodels\n",
    "%pip install matplotlib\n",
    "%pip install seaborn\n",
    "\n",
    "import pandas as pd\n",
    "import matplotlib.pyplot as plt\n",
    "import seaborn as sns\n",
    "from statsmodels.tsa.seasonal import seasonal_decompose\n",
    "import numpy as np"
   ]
  },
  {
   "cell_type": "code",
   "execution_count": null,
   "id": "cae8d12f",
   "metadata": {},
   "outputs": [],
   "source": [
    "import pandas as pd\n",
    "\n",
    "# Use the full path from the \"Location\" field in your screenshot\n",
    "# The r\"\" makes sure Python reads the path correctly on Windows\n",
    "df = pd.read_csv(r\"C:\\Users\\anura\\Downloads\\archive\\final_dataset.csv\")\n",
    "\n",
    "print(df.head())"
   ]
  },
  {
   "cell_type": "code",
   "execution_count": null,
   "id": "0cfabd44",
   "metadata": {},
   "outputs": [],
   "source": [
    "df.describe()"
   ]
  },
  {
   "cell_type": "code",
   "execution_count": null,
   "id": "31a95e6b",
   "metadata": {},
   "outputs": [],
   "source": [
    "df.isnull().sum()\n"
   ]
  },
  {
   "cell_type": "code",
   "execution_count": null,
   "id": "d92870cb",
   "metadata": {},
   "outputs": [],
   "source": [
    "df.info()\n"
   ]
  },
  {
   "cell_type": "code",
   "execution_count": null,
   "id": "1f341150",
   "metadata": {},
   "outputs": [],
   "source": [
    "df['Year'].value_counts()\n",
    "df['Month'].value_counts()\n",
    "# This groups all the data by month, then calculates the average AQI for each group.\n",
    "df.groupby('Month')['AQI'].mean()\n"
   ]
  },
  {
   "cell_type": "code",
   "execution_count": null,
   "id": "2390eadc",
   "metadata": {},
   "outputs": [],
   "source": [
    "# This groups all the data by month, then calculates the average AQI for each group.\n",
    "df.groupby('Year')['AQI'].mean()"
   ]
  },
  {
   "cell_type": "code",
   "execution_count": null,
   "id": "33bd124e",
   "metadata": {},
   "outputs": [],
   "source": [
    "import matplotlib.pyplot as plt\n",
    "\n",
    "# First, store the result of your groupby in a variable\n",
    "yearly_avg_aqi = df.groupby('Year')['AQI'].mean()\n",
    "\n",
    "# Now, create a bar chart from it\n",
    "yearly_avg_aqi.plot(kind='bar', figsize=(10, 6))\n",
    "\n",
    "plt.title('Average AQI per Year')\n",
    "plt.ylabel('Mean AQI')\n",
    "plt.xlabel('Year')\n",
    "plt.xticks(rotation=0)  # Keeps the year labels horizontal\n",
    "plt.grid(axis='y', linestyle='--')\n",
    "plt.show()"
   ]
  },
  {
   "cell_type": "code",
   "execution_count": null,
   "id": "2564dd89",
   "metadata": {},
   "outputs": [],
   "source": [
    "# Rename the 'Date' column to 'Day' for clarity\n",
    "df.rename(columns={'Date': 'Day'}, inplace=True)\n",
    "\n",
    "# Create a new column by combining Year, Month, and Day\n",
    "df['Full_Date'] = pd.to_datetime(df[['Year', 'Month', 'Day']])\n",
    "\n",
    "# Now, create the line plot\n",
    "df.plot(x='Full_Date', y='AQI', figsize=(15, 7))\n",
    "\n",
    "plt.title('Daily AQI Trend (2021-2024)')\n",
    "plt.ylabel('AQI Value')\n",
    "plt.xlabel('Date')\n",
    "plt.grid(True)\n",
    "plt.show()\n"
   ]
  },
  {
   "cell_type": "code",
   "execution_count": null,
   "id": "7dd16222",
   "metadata": {},
   "outputs": [],
   "source": [
    "import matplotlib.pyplot as plt\n",
    "\n",
    "# 1. Calculate the yearly average AQI\n",
    "yearly_avg_aqi = df.groupby('Year')['AQI'].mean()\n",
    "\n",
    "# 2. Create a list of colors based on the condition (AQI > 200)\n",
    "colors = ['red' if aqi > 200 else 'green' for aqi in yearly_avg_aqi]\n",
    "\n",
    "# 3. Create the bar chart, passing the custom colors\n",
    "yearly_avg_aqi.plot(kind='bar', figsize=(10, 6), color=colors)\n",
    "\n",
    "# --- Add enhancements to the plot ---\n",
    "plt.title('Average AQI per Year')\n",
    "plt.ylabel('Mean AQI')\n",
    "plt.xlabel('Year')\n",
    "plt.xticks(rotation=0)\n",
    "plt.grid(axis='y', linestyle='--')\n",
    "\n",
    "# Add a horizontal line at the 200 AQI threshold\n",
    "plt.axhline(y=200, color='darkred', linestyle='--', label='AQI = 200 (Poor)')\n",
    "plt.legend() # This displays the label for the horizontal line\n",
    "\n",
    "plt.show()"
   ]
  },
  {
   "cell_type": "code",
   "execution_count": null,
   "id": "25d0db2a",
   "metadata": {},
   "outputs": [],
   "source": [
    "import seaborn as sns\n",
    "import matplotlib.pyplot as plt\n",
    "\n",
    "# Select only the columns with pollutant data\n",
    "pollutant_df = df[['PM2.5', 'PM10', 'NO2', 'SO2', 'CO', 'Ozone', 'AQI']]\n",
    "\n",
    "# Calculate the correlation matrix\n",
    "corr_matrix = pollutant_df.corr()\n",
    "\n",
    "# Create a heatmap to visualize the correlations\n",
    "plt.figure(figsize=(10, 8))\n",
    "sns.heatmap(corr_matrix, annot=True, cmap='coolwarm', fmt='.2f')\n",
    "plt.title('Correlation Matrix of Pollutants and AQI')\n",
    "plt.show()"
   ]
  }
 ],
 "metadata": {
  "kernelspec": {
   "display_name": "Python 3",
   "language": "python",
   "name": "python3"
  },
  "language_info": {
   "codemirror_mode": {
    "name": "ipython",
    "version": 3
   },
   "file_extension": ".py",
   "mimetype": "text/x-python",
   "name": "python",
   "nbconvert_exporter": "python",
   "pygments_lexer": "ipython3",
   "version": "3.13.1"
  }
 },
 "nbformat": 4,
 "nbformat_minor": 5
}
