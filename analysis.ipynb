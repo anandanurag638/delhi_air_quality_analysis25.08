{
 "cells": [
  {
   "cell_type": "code",
   "execution_count": null,
   "id": "2b3c7ddc",
   "metadata": {},
   "outputs": [],
   "source": [
    "# Delhi Air Quality Analysis and Forecasting\n",
    "\n",
    "#This project explores historical air quality data from Delhi to identify trends, analyze the impact of seasonal changes, and build a predictive model for the Air Quality Index (AQI)."
   ]
  },
  {
   "cell_type": "code",
   "execution_count": null,
   "id": "5550ad29",
   "metadata": {},
   "outputs": [],
   "source": [
    "%pip install statsmodels\n",
    "%pip install matplotlib\n",
    "%pip install seaborn\n",
    "\n",
    "import pandas as pd\n",
    "import matplotlib.pyplot as plt\n",
    "import seaborn as sns\n",
    "from statsmodels.tsa.seasonal import seasonal_decompose\n",
    "import numpy as np"
   ]
  },
  {
   "cell_type": "code",
   "execution_count": null,
   "id": "cae8d12f",
   "metadata": {},
   "outputs": [],
   "source": [
    "import pandas as pd\n",
    "\n",
    "# Use the full path from the \"Location\" field in your screenshot\n",
    "# The r\"\" makes sure Python reads the path correctly on Windows\n",
    "df = pd.read_csv(r\"C:\\Users\\anura\\Downloads\\archive\\final_dataset.csv\")\n",
    "\n",
    "print(df.head())"
   ]
  },
  {
   "cell_type": "code",
   "execution_count": null,
   "id": "0cfabd44",
   "metadata": {},
   "outputs": [],
   "source": [
    "df.describe()"
   ]
  },
  {
   "cell_type": "code",
   "execution_count": null,
   "id": "31a95e6b",
   "metadata": {},
   "outputs": [],
   "source": [
    "df.isnull().sum()\n"
   ]
  },
  {
   "cell_type": "code",
   "execution_count": null,
   "id": "d92870cb",
   "metadata": {},
   "outputs": [],
   "source": [
    "df.info()\n"
   ]
  },
  {
   "cell_type": "code",
   "execution_count": null,
   "id": "1f341150",
   "metadata": {},
   "outputs": [],
   "source": [
    "df['Year'].value_counts()\n",
    "df['Month'].value_counts()\n",
    "# This groups all the data by month, then calculates the average AQI for each group.\n",
    "df.groupby('Month')['AQI'].mean()\n"
   ]
  },
  {
   "cell_type": "code",
   "execution_count": null,
   "id": "2390eadc",
   "metadata": {},
   "outputs": [],
   "source": [
    "# This groups all the data by month, then calculates the average AQI for each group.\n",
    "df.groupby('Year')['AQI'].mean()"
   ]
  },
  {
   "cell_type": "code",
   "execution_count": null,
   "id": "33bd124e",
   "metadata": {},
   "outputs": [],
   "source": [
    "import matplotlib.pyplot as plt\n",
    "\n",
    "# First, store the result of your groupby in a variable\n",
    "yearly_avg_aqi = df.groupby('Year')['AQI'].mean()\n",
    "\n",
    "# Now, create a bar chart from it\n",
    "yearly_avg_aqi.plot(kind='bar', figsize=(10, 6))\n",
    "\n",
    "plt.title('Average AQI per Year')\n",
    "plt.ylabel('Mean AQI')\n",
    "plt.xlabel('Year')\n",
    "plt.xticks(rotation=0)  # Keeps the year labels horizontal\n",
    "plt.grid(axis='y', linestyle='--')\n",
    "plt.show()"
   ]
  },
  {
   "cell_type": "code",
   "execution_count": null,
   "id": "2564dd89",
   "metadata": {},
   "outputs": [],
   "source": [
    "# Rename the 'Date' column to 'Day' for clarity\n",
    "df.rename(columns={'Date': 'Day'}, inplace=True)\n",
    "\n",
    "# Create a new column by combining Year, Month, and Day\n",
    "df['Full_Date'] = pd.to_datetime(df[['Year', 'Month', 'Day']])\n",
    "\n",
    "# Now, create the line plot\n",
    "df.plot(x='Full_Date', y='AQI', figsize=(15, 7))\n",
    "\n",
    "plt.title('Daily AQI Trend (2021-2024)')\n",
    "plt.ylabel('AQI Value')\n",
    "plt.xlabel('Date')\n",
    "plt.grid(True)\n",
    "plt.show()\n"
   ]
  },
  {
   "cell_type": "code",
   "execution_count": null,
   "id": "7dd16222",
   "metadata": {},
   "outputs": [],
   "source": [
    "import matplotlib.pyplot as plt\n",
    "\n",
    "# 1. Calculate the yearly average AQI\n",
    "yearly_avg_aqi = df.groupby('Year')['AQI'].mean()\n",
    "\n",
    "# 2. Create a list of colors based on the condition (AQI > 200)\n",
    "colors = ['red' if aqi > 200 else 'green' for aqi in yearly_avg_aqi]\n",
    "\n",
    "# 3. Create the bar chart, passing the custom colors\n",
    "yearly_avg_aqi.plot(kind='bar', figsize=(10, 6), color=colors)\n",
    "\n",
    "# --- Add enhancements to the plot ---\n",
    "plt.title('Average AQI per Year')\n",
    "plt.ylabel('Mean AQI')\n",
    "plt.xlabel('Year')\n",
    "plt.xticks(rotation=0)\n",
    "plt.grid(axis='y', linestyle='--')\n",
    "\n",
    "# Add a horizontal line at the 200 AQI threshold\n",
    "plt.axhline(y=200, color='darkred', linestyle='--', label='AQI = 200 (Poor)')\n",
    "plt.legend() # This displays the label for the horizontal line\n",
    "\n",
    "plt.show()"
   ]
  },
  {
   "cell_type": "code",
   "execution_count": null,
   "id": "25d0db2a",
   "metadata": {},
   "outputs": [],
   "source": [
    "import seaborn as sns\n",
    "import matplotlib.pyplot as plt\n",
    "\n",
    "# Select only the columns with pollutant data\n",
    "pollutant_df = df[['PM2.5', 'PM10', 'NO2', 'SO2', 'CO', 'Ozone', 'AQI']]\n",
    "\n",
    "# Calculate the correlation matrix\n",
    "corr_matrix = pollutant_df.corr()\n",
    "\n",
    "# Create a heatmap to visualize the correlations\n",
    "plt.figure(figsize=(10, 8))\n",
    "sns.heatmap(corr_matrix, annot=True, cmap='coolwarm', fmt='.2f')\n",
    "plt.title('Correlation Matrix of Pollutants and AQI')\n",
    "plt.show()"
   ]
  },
  {
   "cell_type": "code",
   "execution_count": null,
   "id": "653a0738",
   "metadata": {},
   "outputs": [],
   "source": [
    "import seaborn as sns\n",
    "import matplotlib.pyplot as plt\n",
    "import numpy as np\n",
    "\n",
    "# Select only the columns with pollutant data (same as before)\n",
    "pollutant_df = df[['PM2.5', 'PM10', 'NO2', 'SO2', 'CO', 'Ozone', 'AQI']]\n",
    "\n",
    "# Calculate the correlation matrix (same as before)\n",
    "corr_matrix = pollutant_df.corr()\n",
    "\n",
    "# Create a mask to hide the upper triangle (including the diagonal)\n",
    "mask = np.triu(np.ones_like(corr_matrix, dtype=bool))\n",
    "\n",
    "# Create the heatmap with the mask applied\n",
    "plt.figure(figsize=(10, 8))\n",
    "sns.heatmap(corr_matrix, \n",
    "            mask=mask, \n",
    "            annot=True, \n",
    "            cmap='coolwarm', \n",
    "            fmt='.2f',\n",
    "            linewidths=.5) # Adds thin lines between cells\n",
    "\n",
    "plt.title('Correlation Matrix of Pollutants and AQI (Lower Triangle)')\n",
    "plt.show()"
   ]
  },
  {
   "cell_type": "code",
   "execution_count": null,
   "id": "c5e8a612",
   "metadata": {},
   "outputs": [],
   "source": [
    "!pip install plotly"
   ]
  },
  {
   "cell_type": "code",
   "execution_count": null,
   "id": "50ee7a3b",
   "metadata": {},
   "outputs": [],
   "source": [
    "import pandas as pd\n",
    "import plotly.express as px\n",
    "\n",
    "# --- Data Preparation (Same as before) ---\n",
    "def get_season(month):\n",
    "    if month in [4, 5, 6, 7]:\n",
    "        return 'Summer'\n",
    "    elif month in [8, 9]:\n",
    "        return 'Monsoon'\n",
    "    elif month in [10, 11]:\n",
    "        return 'Autumn'\n",
    "    elif month in [12, 1, 2]:\n",
    "        return 'Winter'\n",
    "    else: # This will only be month 3\n",
    "        return 'Spring'\n",
    "\n",
    "df['Season'] = df['Month'].apply(get_season)\n",
    "seasonal_aqi = df.groupby('Season')['AQI'].mean()\n",
    "season_order = ['Winter', 'Spring', 'Summer', 'Monsoon', 'Autumn']\n",
    "seasonal_aqi = seasonal_aqi.reindex(season_order)\n",
    "seasonal_df = seasonal_aqi.reset_index()\n",
    "\n",
    "# --- Updated Color Logic ---\n",
    "# 1. Update the function to include the 'darkred' category\n",
    "def get_color_category(aqi):\n",
    "    if aqi > 250:\n",
    "        return 'Very Poor (>250)'\n",
    "    elif aqi > 200:\n",
    "        return 'Poor (201-250)'\n",
    "    elif aqi > 150:\n",
    "        return 'Moderate (151-200)'\n",
    "    else:\n",
    "        return 'Good (<=150)'\n",
    "\n",
    "seasonal_df['AQI_Category'] = seasonal_df['AQI'].apply(get_color_category)\n",
    "\n",
    "# 2. Create the interactive bar chart with the updated color map\n",
    "fig = px.bar(\n",
    "    seasonal_df,\n",
    "    x='Season',\n",
    "    y='AQI',\n",
    "    color='AQI_Category',\n",
    "    color_discrete_map={   # Add the new 'darkred' mapping\n",
    "        'Very Poor (>250)': 'darkred',\n",
    "        'Poor (201-250)': 'red',\n",
    "        'Moderate (151-200)': 'yellow',\n",
    "        'Good (<=150)': 'green'\n",
    "    },\n",
    "    title='Interactive Seasonal Average AQI',\n",
    "    labels={'AQI': 'Mean AQI Value', 'Season': 'Season'},\n",
    "    category_orders={'AQI_Category': ['Very Poor (>250)', 'Poor (201-250)', 'Moderate (151-200)', 'Good (<=150)']} # Ensures legend is ordered\n",
    ")\n",
    "\n",
    "# Customize the hover text\n",
    "fig.update_traces(hovertemplate='<b>%{x}</b><br>Average AQI: %{y:.2f}')\n",
    "\n",
    "# 3. Show the figure\n",
    "fig.show()"
   ]
  },
  {
   "cell_type": "code",
   "execution_count": null,
   "id": "09e85a1f",
   "metadata": {},
   "outputs": [],
   "source": [
    "# Sort the DataFrame by AQI from highest to lowest and get the top 10\n",
    "worst_days = df.sort_values(by='AQI', ascending=False).head(10)\n",
    "\n",
    "print(\"Top 10 Most Polluted Days:\")\n",
    "print(worst_days)"
   ]
  },
  {
   "cell_type": "code",
   "execution_count": null,
   "id": "b06a2918",
   "metadata": {},
   "outputs": [],
   "source": [
    "import matplotlib.pyplot as plt\n",
    "\n",
    "# 1. Group by 'Season' and calculate the mean for all major pollutants\n",
    "pollutant_cols = ['PM2.5', 'PM10', 'NO2', 'SO2', 'CO', 'Ozone']\n",
    "seasonal_pollutant_avg = df.groupby('Season')[pollutant_cols].mean()\n",
    "\n",
    "print(\"Average Pollutant Levels by Season:\")\n",
    "print(seasonal_pollutant_avg)\n",
    "\n",
    "# 2. Visualize the results to easily compare them\n",
    "# The 'subplots=True' argument creates a separate mini-chart for each pollutant\n",
    "seasonal_pollutant_avg.plot(\n",
    "    kind='bar',\n",
    "    subplots=True,\n",
    "    figsize=(12, 10),\n",
    "    layout=(3, 2), # Arrange the charts in a 3x2 grid\n",
    "    legend=False,\n",
    "    title='Average Pollutant Levels by Season'\n",
    ")\n",
    "\n",
    "# Improve layout and show the plots\n",
    "plt.tight_layout()\n",
    "plt.show()"
   ]
  },
  {
   "cell_type": "code",
   "execution_count": null,
   "id": "dd2123b3",
   "metadata": {},
   "outputs": [],
   "source": [
    "#PREDICTIVE MODELLING USING DATA SCIENCE\n",
    "# Define our features (the inputs) and the target (the output)\n",
    "features = ['PM2.5', 'PM10', 'NO2', 'SO2', 'CO', 'Ozone']\n",
    "target = 'AQI'\n",
    "\n",
    "X = df[features]\n",
    "y = df[target]"
   ]
  },
  {
   "cell_type": "code",
   "execution_count": null,
   "id": "3d4e4f69",
   "metadata": {},
   "outputs": [],
   "source": [
    "from sklearn.model_selection import train_test_split\n",
    "\n",
    "# Split the data: 80% for training, 20% for testing\n",
    "X_train, X_test, y_train, y_test = train_test_split(\n",
    "    X, y, test_size=0.2, random_state=42\n",
    ")"
   ]
  },
  {
   "cell_type": "code",
   "execution_count": null,
   "id": "da958510",
   "metadata": {},
   "outputs": [],
   "source": [
    "from sklearn.linear_model import LinearRegression\n",
    "\n",
    "# Create the model instance\n",
    "model = LinearRegression()\n",
    "\n",
    "# Train the model using the training data\n",
    "model.fit(X_train, y_train)\n",
    "\n",
    "print(\"Model training complete!\")"
   ]
  },
  {
   "cell_type": "code",
   "execution_count": null,
   "id": "da6f294d",
   "metadata": {},
   "outputs": [],
   "source": [
    "from sklearn.metrics import r2_score, mean_absolute_error\n",
    "\n",
    "# Use the trained model to make predictions on the test set\n",
    "y_pred = model.predict(X_test)\n",
    "\n",
    "# Calculate the evaluation metrics\n",
    "r2 = r2_score(y_test, y_pred)\n",
    "mae = mean_absolute_error(y_test, y_pred)\n",
    "\n",
    "print(f\"R-squared (R²): {r2:.2f}\")\n",
    "print(f\"Mean Absolute Error (MAE): {mae:.2f}\")\n",
    "\n",
    "# Let's also visualize the results\n",
    "import matplotlib.pyplot as plt\n",
    "\n",
    "plt.figure(figsize=(8, 6))\n",
    "plt.scatter(y_test, y_pred)\n",
    "plt.xlabel(\"Actual AQI (Test Set)\")\n",
    "plt.ylabel(\"Predicted AQI\")\n",
    "plt.title(\"Actual vs. Predicted AQI\")\n",
    "# Add a line for perfect prediction\n",
    "plt.plot([y_test.min(), y_test.max()], [y_test.min(), y_test.max()], 'r--', lw=2)\n",
    "plt.grid()\n",
    "plt.show()"
   ]
  },
  {
   "cell_type": "code",
   "execution_count": 28,
   "id": "ca21cacf",
   "metadata": {},
   "outputs": [
    {
     "name": "stdout",
     "output_type": "stream",
     "text": [
      "Model Coefficients:\n",
      "       Coefficient\n",
      "PM2.5     0.371423\n",
      "PM10      0.550790\n",
      "NO2       0.142226\n",
      "SO2      -0.177631\n",
      "CO       13.841798\n",
      "Ozone     0.060985\n"
     ]
    }
   ],
   "source": [
    "import pandas as pd\n",
    "\n",
    "# Create a DataFrame to view the coefficients for each feature\n",
    "coefficients = pd.DataFrame(model.coef_, X.columns, columns=['Coefficient'])\n",
    "\n",
    "print(\"Model Coefficients:\")\n",
    "print(coefficients)"
   ]
  },
  {
   "cell_type": "code",
   "execution_count": 29,
   "id": "7237ed5c",
   "metadata": {},
   "outputs": [
    {
     "name": "stdout",
     "output_type": "stream",
     "text": [
      "\n",
      "--- Random Forest Model Results ---\n",
      "R-squared (R²): 0.93\n",
      "Mean Absolute Error (MAE): 18.61\n"
     ]
    }
   ],
   "source": [
    "from sklearn.ensemble import RandomForestRegressor\n",
    "from sklearn.metrics import r2_score, mean_absolute_error\n",
    "\n",
    "# 1. Create the Random Forest model instance\n",
    "rf_model = RandomForestRegressor(n_estimators=100, random_state=42)\n",
    "\n",
    "# 2. Train the model using the same training data\n",
    "rf_model.fit(X_train, y_train)\n",
    "\n",
    "# 3. Make predictions on the test set\n",
    "y_pred_rf = rf_model.predict(X_test)\n",
    "\n",
    "# 4. Evaluate the new model\n",
    "r2_rf = r2_score(y_test, y_pred_rf)\n",
    "mae_rf = mean_absolute_error(y_test, y_pred_rf)\n",
    "\n",
    "print(\"\\n--- Random Forest Model Results ---\")\n",
    "print(f\"R-squared (R²): {r2_rf:.2f}\")\n",
    "print(f\"Mean Absolute Error (MAE): {mae_rf:.2f}\")"
   ]
  },
  {
   "cell_type": "code",
   "execution_count": 30,
   "id": "3089d15a",
   "metadata": {},
   "outputs": [
    {
     "name": "stdout",
     "output_type": "stream",
     "text": [
      "The model predicts an AQI of: 273.83\n"
     ]
    }
   ],
   "source": [
    "# Create a dictionary with some example pollutant values for a new day\n",
    "new_data = {\n",
    "    'PM2.5': [150.5],\n",
    "    'PM10': [280.0],\n",
    "    'NO2': [60.2],\n",
    "    'SO2': [15.8],\n",
    "    'CO': [1.5],\n",
    "    'Ozone': [45.3]\n",
    "}\n",
    "\n",
    "# Convert the dictionary into a DataFrame\n",
    "new_df = pd.DataFrame(new_data)\n",
    "\n",
    "# Use your trained Random Forest model to predict the AQI\n",
    "predicted_aqi = rf_model.predict(new_df)\n",
    "\n",
    "print(f\"The model predicts an AQI of: {predicted_aqi[0]:.2f}\")"
   ]
  },
  {
   "cell_type": "code",
   "execution_count": 31,
   "id": "7330b76a",
   "metadata": {},
   "outputs": [
    {
     "name": "stdout",
     "output_type": "stream",
     "text": [
      "Feature Importances from Random Forest:\n",
      "PM10     0.526891\n",
      "PM2.5    0.422668\n",
      "NO2      0.014652\n",
      "CO       0.013549\n",
      "Ozone    0.012883\n",
      "SO2      0.009357\n",
      "dtype: float64\n"
     ]
    },
    {
     "data": {
      "image/png": "[encoded data removed]",
      "text/plain": [
       "<Figure size 1000x600 with 1 Axes>"
      ]
     },
     "metadata": {},
     "output_type": "display_data"
    }
   ],
   "source": [
    "import pandas as pd\n",
    "import matplotlib.pyplot as plt\n",
    "\n",
    "# Extract feature importances from the trained Random Forest model\n",
    "importances = rf_model.feature_importances_\n",
    "\n",
    "# Create a pandas Series for easier viewing, sorted by importance\n",
    "feature_importances = pd.Series(importances, index=features).sort_values(ascending=False)\n",
    "\n",
    "print(\"Feature Importances from Random Forest:\")\n",
    "print(feature_importances)\n",
    "\n",
    "# Visualize the feature importances for a clear comparison\n",
    "feature_importances.plot(kind='bar', figsize=(10, 6))\n",
    "plt.title('Feature Importance for Predicting AQI')\n",
    "plt.ylabel('Importance Score')\n",
    "plt.xlabel('Features (Pollutants)')\n",
    "plt.xticks(rotation=45)\n",
    "plt.show()"
   ]
  },
  {
   "cell_type": "code",
   "execution_count": 32,
   "id": "b5732220",
   "metadata": {},
   "outputs": [
    {
     "name": "stdout",
     "output_type": "stream",
     "text": [
      "Model saved successfully to the file: air_quality_model.joblib\n"
     ]
    }
   ],
   "source": [
    "import joblib\n",
    "\n",
    "# Define a filename for your model\n",
    "filename = 'air_quality_model.joblib'\n",
    "\n",
    "# Save the model to the file\n",
    "joblib.dump(rf_model, filename)\n",
    "\n",
    "print(f\"Model saved successfully to the file: {filename}\")"
   ]
  }
 ],
 "metadata": {
  "kernelspec": {
   "display_name": "Python 3",
   "language": "python",
   "name": "python3"
  },
  "language_info": {
   "codemirror_mode": {
    "name": "ipython",
    "version": 3
   },
   "file_extension": ".py",
   "mimetype": "text/x-python",
   "name": "python",
   "nbconvert_exporter": "python",
   "pygments_lexer": "ipython3",
   "version": "3.13.1"
  }
 },
 "nbformat": 4,
 "nbformat_minor": 5
}
